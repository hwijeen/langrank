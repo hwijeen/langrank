{
 "cells": [
  {
   "cell_type": "code",
   "execution_count": 1,
   "metadata": {},
   "outputs": [],
   "source": [
    "import lightgbm as lgb\n",
    "import matplotlib.pyplot as plt\n",
    "import os\n",
    "from collections import defaultdict\n",
    "import numpy as np"
   ]
  },
  {
   "cell_type": "code",
   "execution_count": 2,
   "metadata": {},
   "outputs": [],
   "source": [
    "def _check_not_tuple_of_2_elements(obj, obj_name='obj'):\n",
    "    \"\"\"Check object is not tuple or does not have 2 elements.\"\"\"\n",
    "    if not isinstance(obj, tuple) or len(obj) != 2:\n",
    "        raise TypeError('%s must be a tuple of 2 elements.' % obj_name)\n",
    "\n",
    "\n",
    "def _float2str(value, precision=None):\n",
    "    return (\"{0:.{1}f}\".format(value, precision)\n",
    "            if precision is not None and not isinstance(value, string_type)\n",
    "            else str(value))"
   ]
  },
  {
   "cell_type": "code",
   "execution_count": 3,
   "metadata": {},
   "outputs": [],
   "source": [
    "def plot_importance(importance, feature_name, out_fname, ax=None, height=0.2,\n",
    "                    xlim=None, ylim=None, title='Feature importance',\n",
    "                    xlabel='Feature importance', ylabel='Features',\n",
    "                    importance_type='split', max_num_features=None,\n",
    "                    ignore_zero=True, figsize=None, dpi=None, grid=True,\n",
    "                    precision=3, **kwargs):\n",
    "    \n",
    "    import matplotlib.pyplot as plt\n",
    "    import numpy as np\n",
    "    zip_ = zip\n",
    "\n",
    "#     importance = booster.feature_importance(importance_type=importance_type)\n",
    "#     feature_name = booster.feature_name()\n",
    "\n",
    "    if not len(importance):\n",
    "        raise ValueError(\"Booster's feature_importance is empty.\")\n",
    "\n",
    "    tuples = sorted(zip_(feature_name, importance), key=lambda x: x[1])\n",
    "    if ignore_zero:\n",
    "        tuples = [x for x in tuples if x[1] > 0]\n",
    "    if max_num_features is not None and max_num_features > 0:\n",
    "        tuples = tuples[-max_num_features:]\n",
    "    labels, values = zip_(*tuples)\n",
    "\n",
    "    if ax is None:\n",
    "        if figsize is not None:\n",
    "            _check_not_tuple_of_2_elements(figsize, 'figsize')\n",
    "        _, ax = plt.subplots(1, 1, figsize=figsize, dpi=dpi)\n",
    "\n",
    "    ylocs = np.arange(len(values))\n",
    "    ax.barh(ylocs, values, align='center', height=height, **kwargs)\n",
    "\n",
    "    for x, y in zip_(values, ylocs):\n",
    "        ax.text(x + 1, y,\n",
    "                _float2str(x, precision) if importance_type == 'gain' else x,\n",
    "                va='center')\n",
    "\n",
    "    ax.set_yticks(ylocs)\n",
    "    ax.set_yticklabels(labels)\n",
    "\n",
    "    if xlim is not None:\n",
    "        _check_not_tuple_of_2_elements(xlim, 'xlim')\n",
    "    else:\n",
    "        xlim = (0, max(values) * 1.1)\n",
    "    ax.set_xlim(xlim)\n",
    "\n",
    "    if ylim is not None:\n",
    "        _check_not_tuple_of_2_elements(ylim, 'ylim')\n",
    "    else:\n",
    "        ylim = (-1, len(values))\n",
    "    ax.set_ylim(ylim)\n",
    "\n",
    "    if title is not None:\n",
    "        ax.set_title(title + f' - {out_fname}')\n",
    "    if xlabel is not None:\n",
    "        ax.set_xlabel(xlabel)\n",
    "    if ylabel is not None:\n",
    "        ax.set_ylabel(ylabel)\n",
    "    ax.grid(grid)\n",
    "    plt.savefig(f'{out_fname}.png')\n",
    "    return ax"
   ]
  },
  {
   "cell_type": "code",
   "execution_count": 7,
   "metadata": {},
   "outputs": [],
   "source": [
    "f_path = './pretrained/SA/'"
   ]
  },
  {
   "cell_type": "code",
   "execution_count": 9,
   "metadata": {},
   "outputs": [],
   "source": [
    "model_paths = [f_path + m for m in os.listdir(f_path)]"
   ]
  },
  {
   "cell_type": "code",
   "execution_count": 12,
   "metadata": {},
   "outputs": [
    {
     "data": {
      "text/plain": [
       "['./pretrained/SA/emot',\n",
       " './pretrained/SA/cult_only',\n",
       " './pretrained/SA/nogeo',\n",
       " './pretrained/SA/pos',\n",
       " './pretrained/SA/syn_only',\n",
       " './pretrained/SA/mwe_no_norm',\n",
       " './pretrained/SA/emot_norm',\n",
       " './pretrained/SA/mwe',\n",
       " './pretrained/SA/base']"
      ]
     },
     "execution_count": 12,
     "metadata": {},
     "output_type": "execute_result"
    }
   ],
   "source": [
    "model_paths"
   ]
  },
  {
   "cell_type": "code",
   "execution_count": 69,
   "metadata": {},
   "outputs": [],
   "source": [
    "m_path = model_paths[8]\n",
    "models = [os.path.join(m_path, f) for f in os.listdir(m_path) if f.endswith('.txt')]"
   ]
  },
  {
   "cell_type": "code",
   "execution_count": 70,
   "metadata": {},
   "outputs": [],
   "source": [
    "pooled_importance = defaultdict(list)\n",
    "for m in models:\n",
    "    bst = lgb.Booster(model_file=m)\n",
    "    names = bst.feature_name()\n",
    "    impt_vals = bst.feature_importance(importance_type='split')\n",
    "    for n, i in zip(names, impt_vals):\n",
    "        pooled_importance[n].append(i)"
   ]
  },
  {
   "cell_type": "code",
   "execution_count": 71,
   "metadata": {},
   "outputs": [],
   "source": [
    "avg_importance = [(k, np.round(np.mean(v), 2)) for k, v in pooled_importance.items()]"
   ]
  },
  {
   "cell_type": "code",
   "execution_count": 72,
   "metadata": {},
   "outputs": [],
   "source": [
    "name, impt = tuple(zip(*avg_importance))"
   ]
  },
  {
   "cell_type": "code",
   "execution_count": 73,
   "metadata": {},
   "outputs": [
    {
     "data": {
      "text/plain": [
       "<matplotlib.axes._subplots.AxesSubplot at 0x12098f080>"
      ]
     },
     "execution_count": 73,
     "metadata": {},
     "output_type": "execute_result"
    },
    {
     "data": {
      "image/png": "[encoded data removed]",
      "text/plain": [
       "<Figure size 864x576 with 1 Axes>"
      ]
     },
     "metadata": {
      "needs_background": "light"
     },
     "output_type": "display_data"
    }
   ],
   "source": [
    "model_name = m_path.split('/')[-1]\n",
    "plot_importance(impt, name, model_name, figsize=(12, 8))"
   ]
  },
  {
   "cell_type": "code",
   "execution_count": null,
   "metadata": {},
   "outputs": [],
   "source": []
  },
  {
   "cell_type": "code",
   "execution_count": null,
   "metadata": {},
   "outputs": [],
   "source": []
  }
 ],
 "metadata": {
  "kernelspec": {
   "display_name": "Python 3",
   "language": "python",
   "name": "python3"
  },
  "language_info": {
   "codemirror_mode": {
    "name": "ipython",
    "version": 3
   },
   "file_extension": ".py",
   "mimetype": "text/x-python",
   "name": "python",
   "nbconvert_exporter": "python",
   "pygments_lexer": "ipython3",
   "version": "3.6.5"
  }
 },
 "nbformat": 4,
 "nbformat_minor": 4
}
